{
 "cells": [
  {
   "cell_type": "code",
   "execution_count": 6,
   "id": "f5a0dbaf",
   "metadata": {
    "scrolled": true
   },
   "outputs": [
    {
     "name": "stdout",
     "output_type": "stream",
     "text": [
      "[]\n"
     ]
    }
   ],
   "source": [
    "from glob import glob\n",
    "from tqdm import tqdm\n",
    "\n",
    "import skvideo.io\n",
    "video_path_list = glob(\"../data/0-2. Sampled/*/*\")\n",
    "\n",
    "print(list(filter(lambda x: \".avi\" not in x, video_path_list)))"
   ]
  },
  {
   "cell_type": "code",
   "execution_count": 7,
   "id": "cc69422a",
   "metadata": {},
   "outputs": [
    {
     "name": "stderr",
     "output_type": "stream",
     "text": [
      "100%|██████████████████████████████████████████████████████████████████████████████| 1402/1402 [03:19<00:00,  7.01it/s]\n"
     ]
    }
   ],
   "source": [
    "video_shape_list = []\n",
    "\n",
    "for video_path in tqdm(video_path_list):\n",
    "    video_array = skvideo.io.vread(video_path)\n",
    "    video_shape = video_array.shape\n",
    "    video_shape_list.append(video_shape)"
   ]
  },
  {
   "cell_type": "code",
   "execution_count": 10,
   "id": "b5631caa",
   "metadata": {},
   "outputs": [],
   "source": [
    "temp = list(set(video_shape_list))"
   ]
  },
  {
   "cell_type": "code",
   "execution_count": 11,
   "id": "7bf62a3e",
   "metadata": {},
   "outputs": [
    {
     "data": {
      "text/plain": [
       "{(240, 320, 3)}"
      ]
     },
     "execution_count": 11,
     "metadata": {},
     "output_type": "execute_result"
    }
   ],
   "source": [
    "set([item[1:] for item in temp])"
   ]
  },
  {
   "cell_type": "code",
   "execution_count": 20,
   "id": "821ee88d",
   "metadata": {},
   "outputs": [
    {
     "name": "stdout",
     "output_type": "stream",
     "text": [
      "9128\n",
      "(243, 226, 400, 3)\n",
      "9129\n",
      "(251, 226, 400, 3)\n",
      "9130\n",
      "(247, 226, 400, 3)\n",
      "9131\n",
      "(294, 226, 400, 3)\n"
     ]
    }
   ],
   "source": [
    "for idx, video_shape in enumerate(video_shape_list):\n",
    "    if video_shape[1:] == (226, 400, 3):\n",
    "        print(idx)\n",
    "        print(video_shape)"
   ]
  },
  {
   "cell_type": "code",
   "execution_count": 21,
   "id": "9f9df0f3",
   "metadata": {},
   "outputs": [
    {
     "data": {
      "text/plain": [
       "'../data/0. UCF-101\\\\PommelHorse\\\\v_PommelHorse_g05_c01.avi'"
      ]
     },
     "execution_count": 21,
     "metadata": {},
     "output_type": "execute_result"
    }
   ],
   "source": [
    "video_path_list[9128]"
   ]
  },
  {
   "cell_type": "code",
   "execution_count": 16,
   "id": "d9b738e1",
   "metadata": {},
   "outputs": [
    {
     "data": {
      "text/plain": [
       "{(226, 400, 3), (240, 320, 3)}"
      ]
     },
     "execution_count": 16,
     "metadata": {},
     "output_type": "execute_result"
    }
   ],
   "source": [
    "set([item[1:] for item in temp])"
   ]
  },
  {
   "cell_type": "code",
   "execution_count": null,
   "id": "ca2c0c32",
   "metadata": {},
   "outputs": [],
   "source": []
  }
 ],
 "metadata": {
  "kernelspec": {
   "display_name": "Python 3",
   "language": "python",
   "name": "python3"
  },
  "language_info": {
   "codemirror_mode": {
    "name": "ipython",
    "version": 3
   },
   "file_extension": ".py",
   "mimetype": "text/x-python",
   "name": "python",
   "nbconvert_exporter": "python",
   "pygments_lexer": "ipython3",
   "version": "3.8.8"
  }
 },
 "nbformat": 4,
 "nbformat_minor": 5
}
